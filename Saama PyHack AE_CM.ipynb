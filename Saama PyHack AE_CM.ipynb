{
 "cells": [
  {
   "cell_type": "code",
   "execution_count": null,
   "metadata": {},
   "outputs": [],
   "source": [
    "import pandas as pd\n",
    "import requests\n",
    "from datetime import datetime, date\n",
    "import json"
   ]
  },
  {
   "cell_type": "code",
   "execution_count": null,
   "metadata": {},
   "outputs": [],
   "source": [
    "# API Request for Data\n",
    "url = \"https://pyhack-dot-pharmanlp-177020.uc.r.appspot.com\"\n",
    "cm_endpoint = \"/api/1/StudyHack/cm/subject/list\"\n",
    "ae_endpoint = \"/api/1/StudyHack/ae/subject/list\"\n",
    "\n",
    "# CM Data\n",
    "resp = requests.get(url+cm_endpoint)\n",
    "response = resp.json()\n",
    "cm_data = response.get('data', [])\n",
    "\n",
    "\n",
    "# AE Data\n",
    "resp = requests.get(url+ae_endpoint)\n",
    "response = resp.json()\n",
    "ae_data = response.get('data', [])\n"
   ]
  },
  {
   "cell_type": "code",
   "execution_count": null,
   "metadata": {},
   "outputs": [],
   "source": [
    "err_results = []"
   ]
  },
  {
   "cell_type": "code",
   "execution_count": null,
   "metadata": {},
   "outputs": [],
   "source": [
    "post_endpoint = \"/api/1/StudyHack/query\"\n",
    "headers = {'Content-type': 'application/json', 'Accept': 'application/json'}"
   ]
  },
  {
   "cell_type": "code",
   "execution_count": null,
   "metadata": {},
   "outputs": [],
   "source": [
    "# Type3\n",
    "for subject_id in ae_data:\n",
    "    if subject_id in cm_data:\n",
    "        cm_endpoint = \"/api/1/StudyHack/cm/subject/%s/list\"%(subject_id)\n",
    "        ae_endpoint = \"/api/1/StudyHack/ae/subject/%s/list\"%(subject_id)\n",
    "        cm_resp = requests.get(url+cm_endpoint)\n",
    "        ae_resp = requests.get(url+ae_endpoint)\n",
    "        cm_ddata = cm_resp.json()\n",
    "        ae_ddata = ae_resp.json()\n",
    "        # CM & AE Data\n",
    "        df1 = pd.json_normalize(cm_ddata['data'])\n",
    "        df2 = pd.json_normalize(ae_ddata['data'])\n",
    "        # ae & cm duplicates/overlap\n",
    "        prev_end_date = None\n",
    "        prev_st_date = None\n",
    "        prev_formidx = None\n",
    "        for i in range(df2.shape[0]):\n",
    "            prev_values_bool = prev_st_date and prev_end_date and prev_formidx\n",
    "            if df2.iloc[i]['cmstdat_dts'] and df2.iloc[i]['cmendat_dts']:    \n",
    "                try:\n",
    "                    date1 = (datetime.strptime(df2.iloc[i]['cmstdat_dts'],'%m/%d/%Y')).date()\n",
    "                    date2 = (datetime.strptime(df2.iloc[i]['cmendat_dts'],'%m/%d/%Y')).date()\n",
    "                    if i!=0 and prev_values_bool and (date1 <= prev_end_date and date1 >= prev_st_date):\n",
    "                        query_dict = {\n",
    "                          \"email_address\": \"amrs.tech@gmail.com\",\n",
    "                          \"formname\": str(df2.iloc[i]['formname']),\n",
    "                          \"formid\": str(df2.iloc[i]['formid']),\n",
    "                          \"formidx\": str(df2.iloc[i]['formidx']),\n",
    "                          \"type\": \"TYPE3\",\n",
    "                          \"subjectid\": str(df2.iloc[i]['subjectid'])\n",
    "                        }\n",
    "                        resp = requests.post(url+post_endpoint, data=json.dumps(query_dict), headers=headers)\n",
    "                        err_results.append((query_dict,resp.json()))\n",
    "                        print(resp.json())\n",
    "                    if date1 and date2 and df2.iloc[i]['formidx']:  \n",
    "                        prev_end_date = date2\n",
    "                        prev_st_date = date1\n",
    "                        prev_formidx = df2.iloc[i]['formidx']\n",
    "                except Exception as e:\n",
    "                    print(e)\n",
    "# Type4\n",
    "        prev_end_date = None\n",
    "        prev_st_date = None\n",
    "        prev_formidx = None\n",
    "        for i in range(df1.shape[0]):\n",
    "            prev_values_bool = prev_st_date and prev_end_date and prev_formidx\n",
    "            if df1.iloc[i]['cmstdat_dts'] and df1.iloc[i]['cmendat_dts']:    \n",
    "                try:\n",
    "                    date1 = (datetime.strptime(df1.iloc[i]['cmstdat_dts'],'%m/%d/%Y')).date()\n",
    "                    date2 = (datetime.strptime(df1.iloc[i]['cmendat_dts'],'%m/%d/%Y')).date()\n",
    "                    if i!=0 and prev_values_bool and (date1 <= prev_end_date and date1 >= prev_st_date):\n",
    "                        query_dict = {\n",
    "                          \"email_address\": \"amrs.tech@gmail.com\",\n",
    "                          \"formname\": str(df1.iloc[i]['formname']),\n",
    "                          \"formid\": str(df1.iloc[i]['formid']),\n",
    "                          \"formidx\": str(df1.iloc[i]['formidx']),\n",
    "                          \"type\": \"TYPE4\",\n",
    "                          \"subjectid\": str(df1.iloc[i]['subjectid'])\n",
    "                        }\n",
    "                        resp = requests.post(url+post_endpoint, data=json.dumps(query_dict), headers=headers)\n",
    "                        err_results.append((query_dict,resp.json()))\n",
    "                        print(resp.json())\n",
    "                    if date1 and date2 and df1.iloc[i]['formidx']:  \n",
    "                        prev_end_date = date2\n",
    "                        prev_st_date = date1\n",
    "                        prev_formidx = df1.iloc[i]['formidx']\n",
    "                except Exception as e:\n",
    "                    print(e)\n",
    "    \n",
    "\n"
   ]
  }
 ],
 "metadata": {
  "kernelspec": {
   "display_name": "Python 3",
   "language": "python",
   "name": "python3"
  },
  "language_info": {
   "codemirror_mode": {
    "name": "ipython",
    "version": 3
   },
   "file_extension": ".py",
   "mimetype": "text/x-python",
   "name": "python",
   "nbconvert_exporter": "python",
   "pygments_lexer": "ipython3",
   "version": "3.7.3"
  }
 },
 "nbformat": 4,
 "nbformat_minor": 2
}
